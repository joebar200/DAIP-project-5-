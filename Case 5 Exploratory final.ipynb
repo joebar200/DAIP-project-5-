{
 "cells": [
  {
   "cell_type": "code",
   "execution_count": 13,
   "metadata": {},
   "outputs": [],
   "source": [
    "import pandas as pd\n",
    "import seaborn as sns\n",
    "import matplotlib.pyplot as plt"
   ]
  },
  {
   "cell_type": "code",
   "execution_count": 14,
   "metadata": {},
   "outputs": [],
   "source": [
    "data = pd.read_csv(\"Company A - data.csv\")"
   ]
  },
  {
   "cell_type": "code",
   "execution_count": 15,
   "metadata": {},
   "outputs": [
    {
     "data": {
      "text/html": [
       "<div>\n",
       "<style scoped>\n",
       "    .dataframe tbody tr th:only-of-type {\n",
       "        vertical-align: middle;\n",
       "    }\n",
       "\n",
       "    .dataframe tbody tr th {\n",
       "        vertical-align: top;\n",
       "    }\n",
       "\n",
       "    .dataframe thead th {\n",
       "        text-align: right;\n",
       "    }\n",
       "</style>\n",
       "<table border=\"1\" class=\"dataframe\">\n",
       "  <thead>\n",
       "    <tr style=\"text-align: right;\">\n",
       "      <th></th>\n",
       "      <th>id</th>\n",
       "      <th>customerID</th>\n",
       "      <th>gender</th>\n",
       "      <th>SeniorCitizen</th>\n",
       "      <th>Partner</th>\n",
       "      <th>Dependents</th>\n",
       "      <th>tenure</th>\n",
       "      <th>PhoneService</th>\n",
       "      <th>MultipleLines</th>\n",
       "      <th>InternetService</th>\n",
       "      <th>...</th>\n",
       "      <th>DeviceProtection</th>\n",
       "      <th>TechSupport</th>\n",
       "      <th>StreamingTV</th>\n",
       "      <th>StreamingMovies</th>\n",
       "      <th>Contract</th>\n",
       "      <th>PaperlessBilling</th>\n",
       "      <th>PaymentMethod</th>\n",
       "      <th>MonthlyCharges</th>\n",
       "      <th>TotalCharges</th>\n",
       "      <th>Churn</th>\n",
       "    </tr>\n",
       "  </thead>\n",
       "  <tbody>\n",
       "    <tr>\n",
       "      <th>0</th>\n",
       "      <td>1869</td>\n",
       "      <td>7010-BRBUU</td>\n",
       "      <td>Male</td>\n",
       "      <td>0</td>\n",
       "      <td>Yes</td>\n",
       "      <td>Yes</td>\n",
       "      <td>72</td>\n",
       "      <td>Yes</td>\n",
       "      <td>Yes</td>\n",
       "      <td>No</td>\n",
       "      <td>...</td>\n",
       "      <td>No internet service</td>\n",
       "      <td>No internet service</td>\n",
       "      <td>No internet service</td>\n",
       "      <td>No internet service</td>\n",
       "      <td>Two year</td>\n",
       "      <td>No</td>\n",
       "      <td>Credit card (automatic)</td>\n",
       "      <td>24.10</td>\n",
       "      <td>1734.65</td>\n",
       "      <td>No</td>\n",
       "    </tr>\n",
       "    <tr>\n",
       "      <th>1</th>\n",
       "      <td>4528</td>\n",
       "      <td>9688-YGXVR</td>\n",
       "      <td>Female</td>\n",
       "      <td>0</td>\n",
       "      <td>No</td>\n",
       "      <td>No</td>\n",
       "      <td>44</td>\n",
       "      <td>Yes</td>\n",
       "      <td>No</td>\n",
       "      <td>Fiber optic</td>\n",
       "      <td>...</td>\n",
       "      <td>Yes</td>\n",
       "      <td>No</td>\n",
       "      <td>Yes</td>\n",
       "      <td>No</td>\n",
       "      <td>Month-to-month</td>\n",
       "      <td>Yes</td>\n",
       "      <td>Credit card (automatic)</td>\n",
       "      <td>88.15</td>\n",
       "      <td>3973.2</td>\n",
       "      <td>No</td>\n",
       "    </tr>\n",
       "    <tr>\n",
       "      <th>2</th>\n",
       "      <td>6344</td>\n",
       "      <td>9286-DOJGF</td>\n",
       "      <td>Female</td>\n",
       "      <td>1</td>\n",
       "      <td>Yes</td>\n",
       "      <td>No</td>\n",
       "      <td>38</td>\n",
       "      <td>Yes</td>\n",
       "      <td>Yes</td>\n",
       "      <td>Fiber optic</td>\n",
       "      <td>...</td>\n",
       "      <td>No</td>\n",
       "      <td>No</td>\n",
       "      <td>No</td>\n",
       "      <td>No</td>\n",
       "      <td>Month-to-month</td>\n",
       "      <td>Yes</td>\n",
       "      <td>Bank transfer (automatic)</td>\n",
       "      <td>74.95</td>\n",
       "      <td>2869.85</td>\n",
       "      <td>Yes</td>\n",
       "    </tr>\n",
       "    <tr>\n",
       "      <th>3</th>\n",
       "      <td>6739</td>\n",
       "      <td>6994-KERXL</td>\n",
       "      <td>Male</td>\n",
       "      <td>0</td>\n",
       "      <td>No</td>\n",
       "      <td>No</td>\n",
       "      <td>4</td>\n",
       "      <td>Yes</td>\n",
       "      <td>No</td>\n",
       "      <td>DSL</td>\n",
       "      <td>...</td>\n",
       "      <td>No</td>\n",
       "      <td>No</td>\n",
       "      <td>No</td>\n",
       "      <td>Yes</td>\n",
       "      <td>Month-to-month</td>\n",
       "      <td>Yes</td>\n",
       "      <td>Electronic check</td>\n",
       "      <td>55.90</td>\n",
       "      <td>238.5</td>\n",
       "      <td>No</td>\n",
       "    </tr>\n",
       "    <tr>\n",
       "      <th>4</th>\n",
       "      <td>432</td>\n",
       "      <td>2181-UAESM</td>\n",
       "      <td>Male</td>\n",
       "      <td>0</td>\n",
       "      <td>No</td>\n",
       "      <td>No</td>\n",
       "      <td>2</td>\n",
       "      <td>Yes</td>\n",
       "      <td>No</td>\n",
       "      <td>DSL</td>\n",
       "      <td>...</td>\n",
       "      <td>Yes</td>\n",
       "      <td>No</td>\n",
       "      <td>No</td>\n",
       "      <td>No</td>\n",
       "      <td>Month-to-month</td>\n",
       "      <td>No</td>\n",
       "      <td>Electronic check</td>\n",
       "      <td>53.45</td>\n",
       "      <td>119.5</td>\n",
       "      <td>No</td>\n",
       "    </tr>\n",
       "  </tbody>\n",
       "</table>\n",
       "<p>5 rows × 22 columns</p>\n",
       "</div>"
      ],
      "text/plain": [
       "     id  customerID  gender  SeniorCitizen Partner Dependents  tenure  \\\n",
       "0  1869  7010-BRBUU    Male              0     Yes        Yes      72   \n",
       "1  4528  9688-YGXVR  Female              0      No         No      44   \n",
       "2  6344  9286-DOJGF  Female              1     Yes         No      38   \n",
       "3  6739  6994-KERXL    Male              0      No         No       4   \n",
       "4   432  2181-UAESM    Male              0      No         No       2   \n",
       "\n",
       "  PhoneService MultipleLines InternetService  ...     DeviceProtection  \\\n",
       "0          Yes           Yes              No  ...  No internet service   \n",
       "1          Yes            No     Fiber optic  ...                  Yes   \n",
       "2          Yes           Yes     Fiber optic  ...                   No   \n",
       "3          Yes            No             DSL  ...                   No   \n",
       "4          Yes            No             DSL  ...                  Yes   \n",
       "\n",
       "           TechSupport          StreamingTV      StreamingMovies  \\\n",
       "0  No internet service  No internet service  No internet service   \n",
       "1                   No                  Yes                   No   \n",
       "2                   No                   No                   No   \n",
       "3                   No                   No                  Yes   \n",
       "4                   No                   No                   No   \n",
       "\n",
       "         Contract PaperlessBilling              PaymentMethod MonthlyCharges  \\\n",
       "0        Two year               No    Credit card (automatic)          24.10   \n",
       "1  Month-to-month              Yes    Credit card (automatic)          88.15   \n",
       "2  Month-to-month              Yes  Bank transfer (automatic)          74.95   \n",
       "3  Month-to-month              Yes           Electronic check          55.90   \n",
       "4  Month-to-month               No           Electronic check          53.45   \n",
       "\n",
       "  TotalCharges  Churn  \n",
       "0      1734.65     No  \n",
       "1       3973.2     No  \n",
       "2      2869.85    Yes  \n",
       "3        238.5     No  \n",
       "4        119.5     No  \n",
       "\n",
       "[5 rows x 22 columns]"
      ]
     },
     "execution_count": 15,
     "metadata": {},
     "output_type": "execute_result"
    }
   ],
   "source": [
    "data.head(5)"
   ]
  },
  {
   "cell_type": "code",
   "execution_count": 16,
   "metadata": {},
   "outputs": [],
   "source": [
    "for j in range(0,len(data)):\n",
    "    if data['SeniorCitizen'][j] == 0:\n",
    "         data.loc[j,'SeniorCitizen'] = 'No'\n",
    "    elif data['SeniorCitizen'][j] == 1:\n",
    "            data.loc[j,'SeniorCitizen'] = 'Yes'"
   ]
  },
  {
   "cell_type": "code",
   "execution_count": 17,
   "metadata": {},
   "outputs": [
    {
     "data": {
      "image/png": "[encoded data removed]",
      "text/plain": [
       "<Figure size 432x288 with 1 Axes>"
      ]
     },
     "metadata": {
      "needs_background": "light"
     },
     "output_type": "display_data"
    }
   ],
   "source": [
    "#Customers are on month-to-month plan are 4-14 times more likely to churn, regardless of the plan purchased\n",
    "g = sns.countplot(x='Contract', hue='Churn', data = data)"
   ]
  },
  {
   "cell_type": "code",
   "execution_count": 18,
   "metadata": {},
   "outputs": [
    {
     "data": {
      "text/plain": [
       "[None, None, None, None, None, None, None, None]"
      ]
     },
     "execution_count": 18,
     "metadata": {},
     "output_type": "execute_result"
    },
    {
     "data": {
      "image/png": "[encoded data removed]",
      "text/plain": [
       "<Figure size 432x288 with 1 Axes>"
      ]
     },
     "metadata": {
      "needs_background": "light"
     },
     "output_type": "display_data"
    }
   ],
   "source": [
    "#Customers who paid by electronic check are 2-3 times more likely to churn\n",
    "sns.countplot(x='PaymentMethod', hue='Churn', data = data)\n",
    "locs, labels = plt.xticks()\n",
    "plt.setp(labels, rotation=30)"
   ]
  },
  {
   "cell_type": "code",
   "execution_count": 19,
   "metadata": {},
   "outputs": [
    {
     "data": {
      "text/plain": [
       "<matplotlib.axes._subplots.AxesSubplot at 0x2b11e9fef70>"
      ]
     },
     "execution_count": 19,
     "metadata": {},
     "output_type": "execute_result"
    },
    {
     "data": {
      "image/png": "[encoded data removed]",
      "text/plain": [
       "<Figure size 432x288 with 1 Axes>"
      ]
     },
     "metadata": {
      "needs_background": "light"
     },
     "output_type": "display_data"
    }
   ],
   "source": [
    "sns.countplot(x='PhoneService', hue='Churn', data = data)"
   ]
  },
  {
   "cell_type": "code",
   "execution_count": 20,
   "metadata": {},
   "outputs": [
    {
     "data": {
      "text/plain": [
       "<matplotlib.axes._subplots.AxesSubplot at 0x2b11ea684f0>"
      ]
     },
     "execution_count": 20,
     "metadata": {},
     "output_type": "execute_result"
    },
    {
     "data": {
      "image/png": "[encoded data removed]",
      "text/plain": [
       "<Figure size 432x288 with 1 Axes>"
      ]
     },
     "metadata": {
      "needs_background": "light"
     },
     "output_type": "display_data"
    }
   ],
   "source": [
    "sns.countplot(x='gender', hue='Churn', data = data)"
   ]
  },
  {
   "cell_type": "code",
   "execution_count": 21,
   "metadata": {},
   "outputs": [
    {
     "data": {
      "text/plain": [
       "<matplotlib.axes._subplots.AxesSubplot at 0x2b11eb79ca0>"
      ]
     },
     "execution_count": 21,
     "metadata": {},
     "output_type": "execute_result"
    },
    {
     "data": {
      "image/png": "[encoded data removed]",
      "text/plain": [
       "<Figure size 432x288 with 1 Axes>"
      ]
     },
     "metadata": {
      "needs_background": "light"
     },
     "output_type": "display_data"
    }
   ],
   "source": [
    "sns.countplot(x='MultipleLines', hue='Churn', data = data)"
   ]
  },
  {
   "cell_type": "code",
   "execution_count": 22,
   "metadata": {},
   "outputs": [
    {
     "data": {
      "text/plain": [
       "<matplotlib.axes._subplots.AxesSubplot at 0x2b11ebd0d90>"
      ]
     },
     "execution_count": 22,
     "metadata": {},
     "output_type": "execute_result"
    },
    {
     "data": {
      "image/png": "[encoded data removed]",
      "text/plain": [
       "<Figure size 432x288 with 1 Axes>"
      ]
     },
     "metadata": {
      "needs_background": "light"
     },
     "output_type": "display_data"
    }
   ],
   "source": [
    "#Close to half of customers who are on month-to-month plan pay by electronic check\n",
    "sns.countplot(x='Contract', hue='PaymentMethod', data = data)"
   ]
  },
  {
   "cell_type": "code",
   "execution_count": 23,
   "metadata": {},
   "outputs": [
    {
     "data": {
      "text/plain": [
       "<matplotlib.axes._subplots.AxesSubplot at 0x2b11e7edd00>"
      ]
     },
     "execution_count": 23,
     "metadata": {},
     "output_type": "execute_result"
    },
    {
     "data": {
      "image/png": "[encoded data removed]",
      "text/plain": [
       "<Figure size 432x288 with 1 Axes>"
      ]
     },
     "metadata": {
      "needs_background": "light"
     },
     "output_type": "display_data"
    }
   ],
   "source": [
    "sns.countplot(x='PaymentMethod', hue='Churn', data = data)"
   ]
  },
  {
   "cell_type": "code",
   "execution_count": 24,
   "metadata": {},
   "outputs": [
    {
     "data": {
      "text/plain": [
       "<matplotlib.axes._subplots.AxesSubplot at 0x2b1191199a0>"
      ]
     },
     "execution_count": 24,
     "metadata": {},
     "output_type": "execute_result"
    },
    {
     "data": {
      "image/png": "[encoded data removed]",
      "text/plain": [
       "<Figure size 432x288 with 1 Axes>"
      ]
     },
     "metadata": {
      "needs_background": "light"
     },
     "output_type": "display_data"
    }
   ],
   "source": [
    "#Senior customers are 2 times more likely to churn\n",
    "sns.countplot(x='SeniorCitizen', hue='Churn', data = data)"
   ]
  },
  {
   "cell_type": "code",
   "execution_count": 25,
   "metadata": {},
   "outputs": [
    {
     "data": {
      "text/plain": [
       "<matplotlib.axes._subplots.AxesSubplot at 0x2b11dd74550>"
      ]
     },
     "execution_count": 25,
     "metadata": {},
     "output_type": "execute_result"
    },
    {
     "data": {
      "image/png": "[encoded data removed]",
      "text/plain": [
       "<Figure size 432x288 with 1 Axes>"
      ]
     },
     "metadata": {
      "needs_background": "light"
     },
     "output_type": "display_data"
    }
   ],
   "source": [
    "#Senior customers' preferred method to pay is electronic check\n",
    "sns.countplot(x='SeniorCitizen', hue='PaymentMethod', data = data)"
   ]
  },
  {
   "cell_type": "code",
   "execution_count": 26,
   "metadata": {},
   "outputs": [
    {
     "data": {
      "text/html": [
       "<div>\n",
       "<style scoped>\n",
       "    .dataframe tbody tr th:only-of-type {\n",
       "        vertical-align: middle;\n",
       "    }\n",
       "\n",
       "    .dataframe tbody tr th {\n",
       "        vertical-align: top;\n",
       "    }\n",
       "\n",
       "    .dataframe thead th {\n",
       "        text-align: right;\n",
       "    }\n",
       "</style>\n",
       "<table border=\"1\" class=\"dataframe\">\n",
       "  <thead>\n",
       "    <tr style=\"text-align: right;\">\n",
       "      <th></th>\n",
       "      <th>OnlineSecurity</th>\n",
       "      <th>OnlineBackup</th>\n",
       "      <th>DeviceProtection</th>\n",
       "      <th>TechSupport</th>\n",
       "      <th>StreamingTV</th>\n",
       "      <th>StreamingMovies</th>\n",
       "    </tr>\n",
       "  </thead>\n",
       "  <tbody>\n",
       "    <tr>\n",
       "      <th>0</th>\n",
       "      <td>No internet service</td>\n",
       "      <td>No internet service</td>\n",
       "      <td>No internet service</td>\n",
       "      <td>No internet service</td>\n",
       "      <td>No internet service</td>\n",
       "      <td>No internet service</td>\n",
       "    </tr>\n",
       "    <tr>\n",
       "      <th>1</th>\n",
       "      <td>No</td>\n",
       "      <td>Yes</td>\n",
       "      <td>Yes</td>\n",
       "      <td>No</td>\n",
       "      <td>Yes</td>\n",
       "      <td>No</td>\n",
       "    </tr>\n",
       "    <tr>\n",
       "      <th>2</th>\n",
       "      <td>No</td>\n",
       "      <td>No</td>\n",
       "      <td>No</td>\n",
       "      <td>No</td>\n",
       "      <td>No</td>\n",
       "      <td>No</td>\n",
       "    </tr>\n",
       "    <tr>\n",
       "      <th>3</th>\n",
       "      <td>No</td>\n",
       "      <td>No</td>\n",
       "      <td>No</td>\n",
       "      <td>No</td>\n",
       "      <td>No</td>\n",
       "      <td>Yes</td>\n",
       "    </tr>\n",
       "    <tr>\n",
       "      <th>4</th>\n",
       "      <td>Yes</td>\n",
       "      <td>No</td>\n",
       "      <td>Yes</td>\n",
       "      <td>No</td>\n",
       "      <td>No</td>\n",
       "      <td>No</td>\n",
       "    </tr>\n",
       "    <tr>\n",
       "      <th>...</th>\n",
       "      <td>...</td>\n",
       "      <td>...</td>\n",
       "      <td>...</td>\n",
       "      <td>...</td>\n",
       "      <td>...</td>\n",
       "      <td>...</td>\n",
       "    </tr>\n",
       "    <tr>\n",
       "      <th>5981</th>\n",
       "      <td>Yes</td>\n",
       "      <td>No</td>\n",
       "      <td>No</td>\n",
       "      <td>No</td>\n",
       "      <td>Yes</td>\n",
       "      <td>Yes</td>\n",
       "    </tr>\n",
       "    <tr>\n",
       "      <th>5982</th>\n",
       "      <td>Yes</td>\n",
       "      <td>Yes</td>\n",
       "      <td>Yes</td>\n",
       "      <td>Yes</td>\n",
       "      <td>Yes</td>\n",
       "      <td>Yes</td>\n",
       "    </tr>\n",
       "    <tr>\n",
       "      <th>5983</th>\n",
       "      <td>No internet service</td>\n",
       "      <td>No internet service</td>\n",
       "      <td>No internet service</td>\n",
       "      <td>No internet service</td>\n",
       "      <td>No internet service</td>\n",
       "      <td>No internet service</td>\n",
       "    </tr>\n",
       "    <tr>\n",
       "      <th>5984</th>\n",
       "      <td>No</td>\n",
       "      <td>No</td>\n",
       "      <td>Yes</td>\n",
       "      <td>No</td>\n",
       "      <td>Yes</td>\n",
       "      <td>Yes</td>\n",
       "    </tr>\n",
       "    <tr>\n",
       "      <th>5985</th>\n",
       "      <td>No internet service</td>\n",
       "      <td>No internet service</td>\n",
       "      <td>No internet service</td>\n",
       "      <td>No internet service</td>\n",
       "      <td>No internet service</td>\n",
       "      <td>No internet service</td>\n",
       "    </tr>\n",
       "  </tbody>\n",
       "</table>\n",
       "<p>5986 rows × 6 columns</p>\n",
       "</div>"
      ],
      "text/plain": [
       "           OnlineSecurity         OnlineBackup     DeviceProtection  \\\n",
       "0     No internet service  No internet service  No internet service   \n",
       "1                      No                  Yes                  Yes   \n",
       "2                      No                   No                   No   \n",
       "3                      No                   No                   No   \n",
       "4                     Yes                   No                  Yes   \n",
       "...                   ...                  ...                  ...   \n",
       "5981                  Yes                   No                   No   \n",
       "5982                  Yes                  Yes                  Yes   \n",
       "5983  No internet service  No internet service  No internet service   \n",
       "5984                   No                   No                  Yes   \n",
       "5985  No internet service  No internet service  No internet service   \n",
       "\n",
       "              TechSupport          StreamingTV      StreamingMovies  \n",
       "0     No internet service  No internet service  No internet service  \n",
       "1                      No                  Yes                   No  \n",
       "2                      No                   No                   No  \n",
       "3                      No                   No                  Yes  \n",
       "4                      No                   No                   No  \n",
       "...                   ...                  ...                  ...  \n",
       "5981                   No                  Yes                  Yes  \n",
       "5982                  Yes                  Yes                  Yes  \n",
       "5983  No internet service  No internet service  No internet service  \n",
       "5984                   No                  Yes                  Yes  \n",
       "5985  No internet service  No internet service  No internet service  \n",
       "\n",
       "[5986 rows x 6 columns]"
      ]
     },
     "execution_count": 26,
     "metadata": {},
     "output_type": "execute_result"
    }
   ],
   "source": [
    "data.iloc[:,10:16]"
   ]
  },
  {
   "cell_type": "code",
   "execution_count": 27,
   "metadata": {},
   "outputs": [],
   "source": [
    "data['Add-ons'] = 0\n",
    "\n",
    "for i in range(0,len(data)):\n",
    "    count = 0\n",
    "    for j in range(10,16):\n",
    "        if data.iloc[i,j] == \"Yes\":\n",
    "            count = count + 1\n",
    "    if data.loc[i,'InternetService'] == 'No':\n",
    "        data.loc[i,'Add-ons'] = -1\n",
    "    else:\n",
    "        data.loc[i,'Add-ons'] = count\n",
    "data = data.sort_values(\"Add-ons\")"
   ]
  },
  {
   "cell_type": "code",
   "execution_count": 28,
   "metadata": {},
   "outputs": [],
   "source": [
    "for i in range(0,len(data)):\n",
    "    if data.loc[i,'PhoneService'] == 'Yes' and data.loc[i,'InternetService'] == 'No':\n",
    "        data.loc[i,'Plan'] = \"Phone Only\"\n",
    "    elif data.loc[i,'PhoneService'] == 'Yes' and data.loc[i,'Add-ons'] == 0:\n",
    "        data.loc[i,'Plan'] = \"Phone + Internet Only\"\n",
    "    elif data.loc[i,'PhoneService'] == 'Yes' and data.loc[i,'Add-ons'] > 0:\n",
    "        data.loc[i,'Plan'] = \"Phone + Internet + Add-ons\"\n",
    "    elif data.loc[i,'PhoneService'] == 'No' and data.loc[i,'Add-ons'] == 0:\n",
    "        data.loc[i,'Plan'] = \"Internet Only\"\n",
    "    elif data.loc[i,'PhoneService'] == 'No' and data.loc[i,'Add-ons'] > 0:\n",
    "        data.loc[i,'Plan'] = \"Internet + Add-ons\""
   ]
  },
  {
   "cell_type": "code",
   "execution_count": 29,
   "metadata": {},
   "outputs": [],
   "source": [
    "for i in range(0,len(data)):\n",
    "    if data.loc[i,'Add-ons'] == -1:\n",
    "        data.loc[i,'Add-ons'] = \"No Internet\""
   ]
  },
  {
   "cell_type": "code",
   "execution_count": 30,
   "metadata": {},
   "outputs": [
    {
     "data": {
      "text/plain": [
       "array(['Phone Only', 'Phone + Internet Only', 'Internet Only',\n",
       "       'Phone + Internet + Add-ons', 'Internet + Add-ons'], dtype=object)"
      ]
     },
     "execution_count": 30,
     "metadata": {},
     "output_type": "execute_result"
    }
   ],
   "source": [
    "data['Plan'].unique()"
   ]
  },
  {
   "cell_type": "code",
   "execution_count": 31,
   "metadata": {},
   "outputs": [
    {
     "data": {
      "text/html": [
       "<div>\n",
       "<style scoped>\n",
       "    .dataframe tbody tr th:only-of-type {\n",
       "        vertical-align: middle;\n",
       "    }\n",
       "\n",
       "    .dataframe tbody tr th {\n",
       "        vertical-align: top;\n",
       "    }\n",
       "\n",
       "    .dataframe thead th {\n",
       "        text-align: right;\n",
       "    }\n",
       "</style>\n",
       "<table border=\"1\" class=\"dataframe\">\n",
       "  <thead>\n",
       "    <tr style=\"text-align: right;\">\n",
       "      <th></th>\n",
       "      <th>SeniorCitizen</th>\n",
       "      <th>MonthlyCharges</th>\n",
       "      <th>Add-ons</th>\n",
       "      <th>Churn</th>\n",
       "      <th>Plan</th>\n",
       "    </tr>\n",
       "  </thead>\n",
       "  <tbody>\n",
       "    <tr>\n",
       "      <th>0</th>\n",
       "      <td>No</td>\n",
       "      <td>24.10</td>\n",
       "      <td>No Internet</td>\n",
       "      <td>No</td>\n",
       "      <td>Phone Only</td>\n",
       "    </tr>\n",
       "    <tr>\n",
       "      <th>2882</th>\n",
       "      <td>No</td>\n",
       "      <td>19.60</td>\n",
       "      <td>No Internet</td>\n",
       "      <td>No</td>\n",
       "      <td>Phone Only</td>\n",
       "    </tr>\n",
       "    <tr>\n",
       "      <th>2870</th>\n",
       "      <td>No</td>\n",
       "      <td>19.40</td>\n",
       "      <td>No Internet</td>\n",
       "      <td>No</td>\n",
       "      <td>Phone Only</td>\n",
       "    </tr>\n",
       "    <tr>\n",
       "      <th>2862</th>\n",
       "      <td>No</td>\n",
       "      <td>20.20</td>\n",
       "      <td>No Internet</td>\n",
       "      <td>No</td>\n",
       "      <td>Phone Only</td>\n",
       "    </tr>\n",
       "    <tr>\n",
       "      <th>2857</th>\n",
       "      <td>No</td>\n",
       "      <td>19.30</td>\n",
       "      <td>No Internet</td>\n",
       "      <td>No</td>\n",
       "      <td>Phone Only</td>\n",
       "    </tr>\n",
       "    <tr>\n",
       "      <th>...</th>\n",
       "      <td>...</td>\n",
       "      <td>...</td>\n",
       "      <td>...</td>\n",
       "      <td>...</td>\n",
       "      <td>...</td>\n",
       "    </tr>\n",
       "    <tr>\n",
       "      <th>862</th>\n",
       "      <td>No</td>\n",
       "      <td>90.95</td>\n",
       "      <td>6</td>\n",
       "      <td>No</td>\n",
       "      <td>Phone + Internet + Add-ons</td>\n",
       "    </tr>\n",
       "    <tr>\n",
       "      <th>4799</th>\n",
       "      <td>Yes</td>\n",
       "      <td>114.50</td>\n",
       "      <td>6</td>\n",
       "      <td>No</td>\n",
       "      <td>Phone + Internet + Add-ons</td>\n",
       "    </tr>\n",
       "    <tr>\n",
       "      <th>4816</th>\n",
       "      <td>Yes</td>\n",
       "      <td>85.65</td>\n",
       "      <td>6</td>\n",
       "      <td>No</td>\n",
       "      <td>Phone + Internet + Add-ons</td>\n",
       "    </tr>\n",
       "    <tr>\n",
       "      <th>3477</th>\n",
       "      <td>No</td>\n",
       "      <td>115.85</td>\n",
       "      <td>6</td>\n",
       "      <td>No</td>\n",
       "      <td>Phone + Internet + Add-ons</td>\n",
       "    </tr>\n",
       "    <tr>\n",
       "      <th>4235</th>\n",
       "      <td>No</td>\n",
       "      <td>113.65</td>\n",
       "      <td>6</td>\n",
       "      <td>No</td>\n",
       "      <td>Phone + Internet + Add-ons</td>\n",
       "    </tr>\n",
       "  </tbody>\n",
       "</table>\n",
       "<p>5986 rows × 5 columns</p>\n",
       "</div>"
      ],
      "text/plain": [
       "     SeniorCitizen  MonthlyCharges      Add-ons Churn  \\\n",
       "0               No           24.10  No Internet    No   \n",
       "2882            No           19.60  No Internet    No   \n",
       "2870            No           19.40  No Internet    No   \n",
       "2862            No           20.20  No Internet    No   \n",
       "2857            No           19.30  No Internet    No   \n",
       "...            ...             ...          ...   ...   \n",
       "862             No           90.95            6    No   \n",
       "4799           Yes          114.50            6    No   \n",
       "4816           Yes           85.65            6    No   \n",
       "3477            No          115.85            6    No   \n",
       "4235            No          113.65            6    No   \n",
       "\n",
       "                            Plan  \n",
       "0                     Phone Only  \n",
       "2882                  Phone Only  \n",
       "2870                  Phone Only  \n",
       "2862                  Phone Only  \n",
       "2857                  Phone Only  \n",
       "...                          ...  \n",
       "862   Phone + Internet + Add-ons  \n",
       "4799  Phone + Internet + Add-ons  \n",
       "4816  Phone + Internet + Add-ons  \n",
       "3477  Phone + Internet + Add-ons  \n",
       "4235  Phone + Internet + Add-ons  \n",
       "\n",
       "[5986 rows x 5 columns]"
      ]
     },
     "execution_count": 31,
     "metadata": {},
     "output_type": "execute_result"
    }
   ],
   "source": [
    "charges = data.loc[:,('SeniorCitizen','MonthlyCharges','Add-ons','Churn','Plan')]\n",
    "charges"
   ]
  },
  {
   "cell_type": "code",
   "execution_count": 32,
   "metadata": {},
   "outputs": [
    {
     "data": {
      "image/png": "[encoded data removed]",
      "text/plain": [
       "<Figure size 432x288 with 1 Axes>"
      ]
     },
     "metadata": {
      "needs_background": "light"
     },
     "output_type": "display_data"
    }
   ],
   "source": [
    "#Senior customers pay 7 pounds more on average for phone+int+ any add-ons\n",
    "#Try phone,phone+int,int,phone+int+add,int+add no phone\n",
    "box1 = sns.boxplot(x=\"Add-ons\", y=\"MonthlyCharges\",\n",
    "            hue=\"Churn\",data=charges)\n",
    "sns.despine(offset=10, trim=True)\n",
    "\n",
    "#These codes add numbers to the chart\n",
    "#medians1 = charges.groupby(['Churn','Add-ons'])['MonthlyCharges'].median()\n",
    "#vertical_offset = charges['MonthlyCharges'].median() * 0.05\n",
    "#for xtick in box1.get_xticks():\n",
    "#    box1.text(xtick,medians1[xtick] + vertical_offset,medians1[xtick], \n",
    "#            horizontalalignment='center',size='x-small',color='b',weight='semibold')"
   ]
  },
  {
   "cell_type": "code",
   "execution_count": 33,
   "metadata": {},
   "outputs": [
    {
     "data": {
      "text/plain": [
       "Churn  Add-ons    \n",
       "No     0               50.725\n",
       "       1               56.225\n",
       "       2               64.700\n",
       "       3               75.950\n",
       "       4               94.000\n",
       "       5               85.950\n",
       "       6               91.975\n",
       "       No Internet     20.150\n",
       "Yes    0               69.875\n",
       "       1               79.000\n",
       "       2               86.300\n",
       "       3               95.550\n",
       "       4              103.300\n",
       "       5              108.500\n",
       "       6              114.350\n",
       "       No Internet     20.000\n",
       "Name: MonthlyCharges, dtype: float64"
      ]
     },
     "execution_count": 33,
     "metadata": {},
     "output_type": "execute_result"
    }
   ],
   "source": [
    "charges.groupby(['Churn','Add-ons'])['MonthlyCharges'].median()"
   ]
  },
  {
   "cell_type": "code",
   "execution_count": 34,
   "metadata": {},
   "outputs": [
    {
     "data": {
      "text/plain": [
       "array(['Phone Only', 'Phone + Internet Only', 'Internet Only',\n",
       "       'Phone + Internet + Add-ons', 'Internet + Add-ons'], dtype=object)"
      ]
     },
     "execution_count": 34,
     "metadata": {},
     "output_type": "execute_result"
    }
   ],
   "source": [
    "data['Plan'].unique()"
   ]
  },
  {
   "cell_type": "code",
   "execution_count": 35,
   "metadata": {},
   "outputs": [
    {
     "data": {
      "text/plain": [
       "[None, None, None, None, None, None, None, None, None, None]"
      ]
     },
     "execution_count": 35,
     "metadata": {},
     "output_type": "execute_result"
    },
    {
     "data": {
      "image/png": "[encoded data removed]",
      "text/plain": [
       "<Figure size 432x288 with 1 Axes>"
      ]
     },
     "metadata": {
      "needs_background": "light"
     },
     "output_type": "display_data"
    }
   ],
   "source": [
    "sns.boxplot(x=\"Plan\", y=\"MonthlyCharges\",\n",
    "            hue=\"Churn\", palette=[\"y\", \"c\"],\n",
    "            data=charges)\n",
    "sns.despine(offset=10, trim=True)\n",
    "locs, labels = plt.xticks()\n",
    "plt.setp(labels, rotation=30)"
   ]
  },
  {
   "cell_type": "code",
   "execution_count": 36,
   "metadata": {},
   "outputs": [
    {
     "data": {
      "text/html": [
       "<div>\n",
       "<style scoped>\n",
       "    .dataframe tbody tr th:only-of-type {\n",
       "        vertical-align: middle;\n",
       "    }\n",
       "\n",
       "    .dataframe tbody tr th {\n",
       "        vertical-align: top;\n",
       "    }\n",
       "\n",
       "    .dataframe thead th {\n",
       "        text-align: right;\n",
       "    }\n",
       "</style>\n",
       "<table border=\"1\" class=\"dataframe\">\n",
       "  <thead>\n",
       "    <tr style=\"text-align: right;\">\n",
       "      <th></th>\n",
       "      <th></th>\n",
       "      <th>MonthlyCharges</th>\n",
       "    </tr>\n",
       "    <tr>\n",
       "      <th>Churn</th>\n",
       "      <th>Plan</th>\n",
       "      <th></th>\n",
       "    </tr>\n",
       "  </thead>\n",
       "  <tbody>\n",
       "    <tr>\n",
       "      <th rowspan=\"5\" valign=\"top\">No</th>\n",
       "      <th>Internet + Add-ons</th>\n",
       "      <td>44.850</td>\n",
       "    </tr>\n",
       "    <tr>\n",
       "      <th>Internet Only</th>\n",
       "      <td>25.050</td>\n",
       "    </tr>\n",
       "    <tr>\n",
       "      <th>Phone + Internet + Add-ons</th>\n",
       "      <td>84.800</td>\n",
       "    </tr>\n",
       "    <tr>\n",
       "      <th>Phone + Internet Only</th>\n",
       "      <td>69.350</td>\n",
       "    </tr>\n",
       "    <tr>\n",
       "      <th>Phone Only</th>\n",
       "      <td>20.150</td>\n",
       "    </tr>\n",
       "    <tr>\n",
       "      <th rowspan=\"5\" valign=\"top\">Yes</th>\n",
       "      <th>Internet + Add-ons</th>\n",
       "      <td>40.000</td>\n",
       "    </tr>\n",
       "    <tr>\n",
       "      <th>Internet Only</th>\n",
       "      <td>24.925</td>\n",
       "    </tr>\n",
       "    <tr>\n",
       "      <th>Phone + Internet + Add-ons</th>\n",
       "      <td>89.150</td>\n",
       "    </tr>\n",
       "    <tr>\n",
       "      <th>Phone + Internet Only</th>\n",
       "      <td>70.100</td>\n",
       "    </tr>\n",
       "    <tr>\n",
       "      <th>Phone Only</th>\n",
       "      <td>20.000</td>\n",
       "    </tr>\n",
       "  </tbody>\n",
       "</table>\n",
       "</div>"
      ],
      "text/plain": [
       "                                  MonthlyCharges\n",
       "Churn Plan                                      \n",
       "No    Internet + Add-ons                  44.850\n",
       "      Internet Only                       25.050\n",
       "      Phone + Internet + Add-ons          84.800\n",
       "      Phone + Internet Only               69.350\n",
       "      Phone Only                          20.150\n",
       "Yes   Internet + Add-ons                  40.000\n",
       "      Internet Only                       24.925\n",
       "      Phone + Internet + Add-ons          89.150\n",
       "      Phone + Internet Only               70.100\n",
       "      Phone Only                          20.000"
      ]
     },
     "execution_count": 36,
     "metadata": {},
     "output_type": "execute_result"
    }
   ],
   "source": [
    "charges.groupby(['Churn','Plan']).median()"
   ]
  },
  {
   "cell_type": "code",
   "execution_count": 37,
   "metadata": {},
   "outputs": [
    {
     "data": {
      "image/png": "[encoded data removed]",
      "text/plain": [
       "<Figure size 432x288 with 1 Axes>"
      ]
     },
     "metadata": {
      "needs_background": "light"
     },
     "output_type": "display_data"
    }
   ],
   "source": [
    "#Senior customers pay 7 pounds more on average for phone+int+ any add-ons\n",
    "sns.boxplot(x=\"Add-ons\", y=\"MonthlyCharges\",\n",
    "            hue=\"SeniorCitizen\", palette=[\"m\", \"g\"],\n",
    "            data=charges)\n",
    "sns.despine(offset=10, trim=True)"
   ]
  },
  {
   "cell_type": "code",
   "execution_count": 38,
   "metadata": {},
   "outputs": [
    {
     "data": {
      "text/html": [
       "<div>\n",
       "<style scoped>\n",
       "    .dataframe tbody tr th:only-of-type {\n",
       "        vertical-align: middle;\n",
       "    }\n",
       "\n",
       "    .dataframe tbody tr th {\n",
       "        vertical-align: top;\n",
       "    }\n",
       "\n",
       "    .dataframe thead th {\n",
       "        text-align: right;\n",
       "    }\n",
       "</style>\n",
       "<table border=\"1\" class=\"dataframe\">\n",
       "  <thead>\n",
       "    <tr style=\"text-align: right;\">\n",
       "      <th></th>\n",
       "      <th></th>\n",
       "      <th>MonthlyCharges</th>\n",
       "    </tr>\n",
       "    <tr>\n",
       "      <th>SeniorCitizen</th>\n",
       "      <th>Add-ons</th>\n",
       "      <th></th>\n",
       "    </tr>\n",
       "  </thead>\n",
       "  <tbody>\n",
       "    <tr>\n",
       "      <th rowspan=\"8\" valign=\"top\">No</th>\n",
       "      <th>0</th>\n",
       "      <td>68.950</td>\n",
       "    </tr>\n",
       "    <tr>\n",
       "      <th>1</th>\n",
       "      <td>73.850</td>\n",
       "    </tr>\n",
       "    <tr>\n",
       "      <th>2</th>\n",
       "      <td>68.225</td>\n",
       "    </tr>\n",
       "    <tr>\n",
       "      <th>3</th>\n",
       "      <td>88.800</td>\n",
       "    </tr>\n",
       "    <tr>\n",
       "      <th>4</th>\n",
       "      <td>95.850</td>\n",
       "    </tr>\n",
       "    <tr>\n",
       "      <th>5</th>\n",
       "      <td>85.450</td>\n",
       "    </tr>\n",
       "    <tr>\n",
       "      <th>6</th>\n",
       "      <td>92.000</td>\n",
       "    </tr>\n",
       "    <tr>\n",
       "      <th>No Internet</th>\n",
       "      <td>20.150</td>\n",
       "    </tr>\n",
       "    <tr>\n",
       "      <th rowspan=\"8\" valign=\"top\">Yes</th>\n",
       "      <th>0</th>\n",
       "      <td>70.550</td>\n",
       "    </tr>\n",
       "    <tr>\n",
       "      <th>1</th>\n",
       "      <td>79.350</td>\n",
       "    </tr>\n",
       "    <tr>\n",
       "      <th>2</th>\n",
       "      <td>88.750</td>\n",
       "    </tr>\n",
       "    <tr>\n",
       "      <th>3</th>\n",
       "      <td>94.900</td>\n",
       "    </tr>\n",
       "    <tr>\n",
       "      <th>4</th>\n",
       "      <td>102.600</td>\n",
       "    </tr>\n",
       "    <tr>\n",
       "      <th>5</th>\n",
       "      <td>108.500</td>\n",
       "    </tr>\n",
       "    <tr>\n",
       "      <th>6</th>\n",
       "      <td>113.000</td>\n",
       "    </tr>\n",
       "    <tr>\n",
       "      <th>No Internet</th>\n",
       "      <td>20.500</td>\n",
       "    </tr>\n",
       "  </tbody>\n",
       "</table>\n",
       "</div>"
      ],
      "text/plain": [
       "                           MonthlyCharges\n",
       "SeniorCitizen Add-ons                    \n",
       "No            0                    68.950\n",
       "              1                    73.850\n",
       "              2                    68.225\n",
       "              3                    88.800\n",
       "              4                    95.850\n",
       "              5                    85.450\n",
       "              6                    92.000\n",
       "              No Internet          20.150\n",
       "Yes           0                    70.550\n",
       "              1                    79.350\n",
       "              2                    88.750\n",
       "              3                    94.900\n",
       "              4                   102.600\n",
       "              5                   108.500\n",
       "              6                   113.000\n",
       "              No Internet          20.500"
      ]
     },
     "execution_count": 38,
     "metadata": {},
     "output_type": "execute_result"
    }
   ],
   "source": [
    "charges.groupby(['SeniorCitizen','Add-ons']).median()"
   ]
  },
  {
   "cell_type": "code",
   "execution_count": 39,
   "metadata": {},
   "outputs": [
    {
     "data": {
      "text/plain": [
       "[None, None, None, None, None, None, None, None, None, None]"
      ]
     },
     "execution_count": 39,
     "metadata": {},
     "output_type": "execute_result"
    },
    {
     "data": {
      "image/png": "[encoded data removed]",
      "text/plain": [
       "<Figure size 432x288 with 1 Axes>"
      ]
     },
     "metadata": {
      "needs_background": "light"
     },
     "output_type": "display_data"
    }
   ],
   "source": [
    "sns.boxplot(x=\"Plan\", y=\"MonthlyCharges\",\n",
    "            hue=\"SeniorCitizen\", palette=[\"m\", \"g\"],\n",
    "            data=charges)\n",
    "sns.despine(offset=10, trim=True)\n",
    "locs, labels = plt.xticks()\n",
    "plt.setp(labels, rotation=30)"
   ]
  },
  {
   "cell_type": "code",
   "execution_count": 40,
   "metadata": {},
   "outputs": [
    {
     "data": {
      "text/html": [
       "<div>\n",
       "<style scoped>\n",
       "    .dataframe tbody tr th:only-of-type {\n",
       "        vertical-align: middle;\n",
       "    }\n",
       "\n",
       "    .dataframe tbody tr th {\n",
       "        vertical-align: top;\n",
       "    }\n",
       "\n",
       "    .dataframe thead th {\n",
       "        text-align: right;\n",
       "    }\n",
       "</style>\n",
       "<table border=\"1\" class=\"dataframe\">\n",
       "  <thead>\n",
       "    <tr style=\"text-align: right;\">\n",
       "      <th></th>\n",
       "      <th></th>\n",
       "      <th>MonthlyCharges</th>\n",
       "    </tr>\n",
       "    <tr>\n",
       "      <th>SeniorCitizen</th>\n",
       "      <th>Plan</th>\n",
       "      <th></th>\n",
       "    </tr>\n",
       "  </thead>\n",
       "  <tbody>\n",
       "    <tr>\n",
       "      <th rowspan=\"5\" valign=\"top\">No</th>\n",
       "      <th>Internet + Add-ons</th>\n",
       "      <td>43.825</td>\n",
       "    </tr>\n",
       "    <tr>\n",
       "      <th>Internet Only</th>\n",
       "      <td>25.000</td>\n",
       "    </tr>\n",
       "    <tr>\n",
       "      <th>Phone + Internet + Add-ons</th>\n",
       "      <td>84.600</td>\n",
       "    </tr>\n",
       "    <tr>\n",
       "      <th>Phone + Internet Only</th>\n",
       "      <td>69.550</td>\n",
       "    </tr>\n",
       "    <tr>\n",
       "      <th>Phone Only</th>\n",
       "      <td>20.150</td>\n",
       "    </tr>\n",
       "    <tr>\n",
       "      <th rowspan=\"5\" valign=\"top\">Yes</th>\n",
       "      <th>Internet + Add-ons</th>\n",
       "      <td>43.850</td>\n",
       "    </tr>\n",
       "    <tr>\n",
       "      <th>Internet Only</th>\n",
       "      <td>25.075</td>\n",
       "    </tr>\n",
       "    <tr>\n",
       "      <th>Phone + Internet + Add-ons</th>\n",
       "      <td>91.350</td>\n",
       "    </tr>\n",
       "    <tr>\n",
       "      <th>Phone + Internet Only</th>\n",
       "      <td>70.650</td>\n",
       "    </tr>\n",
       "    <tr>\n",
       "      <th>Phone Only</th>\n",
       "      <td>20.500</td>\n",
       "    </tr>\n",
       "  </tbody>\n",
       "</table>\n",
       "</div>"
      ],
      "text/plain": [
       "                                          MonthlyCharges\n",
       "SeniorCitizen Plan                                      \n",
       "No            Internet + Add-ons                  43.825\n",
       "              Internet Only                       25.000\n",
       "              Phone + Internet + Add-ons          84.600\n",
       "              Phone + Internet Only               69.550\n",
       "              Phone Only                          20.150\n",
       "Yes           Internet + Add-ons                  43.850\n",
       "              Internet Only                       25.075\n",
       "              Phone + Internet + Add-ons          91.350\n",
       "              Phone + Internet Only               70.650\n",
       "              Phone Only                          20.500"
      ]
     },
     "execution_count": 40,
     "metadata": {},
     "output_type": "execute_result"
    }
   ],
   "source": [
    "charges.groupby(['SeniorCitizen','Plan']).median()"
   ]
  },
  {
   "cell_type": "code",
   "execution_count": 41,
   "metadata": {},
   "outputs": [
    {
     "data": {
      "text/plain": [
       "<matplotlib.axes._subplots.AxesSubplot at 0x2b11eb8ef40>"
      ]
     },
     "execution_count": 41,
     "metadata": {},
     "output_type": "execute_result"
    },
    {
     "data": {
      "image/png": "[encoded data removed]",
      "text/plain": [
       "<Figure size 432x288 with 1 Axes>"
      ]
     },
     "metadata": {
      "needs_background": "light"
     },
     "output_type": "display_data"
    }
   ],
   "source": [
    "#Customers without partners/ dependents are 1.5- 2 times more likely to churn\n",
    "data['LiveAlone'] = 'No'\n",
    "for i in range(0,len(data)):\n",
    "    count = 0\n",
    "    for j in range(4,5):\n",
    "        if data.iloc[i,j] == \"Yes\":\n",
    "            count = count + 1\n",
    "    if count == 0:\n",
    "        data.loc[i,'LiveAlone'] = 'Yes'\n",
    "sns.countplot(x='LiveAlone', hue='Churn', data = data)"
   ]
  },
  {
   "cell_type": "code",
   "execution_count": 42,
   "metadata": {},
   "outputs": [
    {
     "data": {
      "text/plain": [
       "<matplotlib.axes._subplots.AxesSubplot at 0x2b12007a730>"
      ]
     },
     "execution_count": 42,
     "metadata": {},
     "output_type": "execute_result"
    },
    {
     "data": {
      "image/png": "[encoded data removed]",
      "text/plain": [
       "<Figure size 432x288 with 1 Axes>"
      ]
     },
     "metadata": {
      "needs_background": "light"
     },
     "output_type": "display_data"
    }
   ],
   "source": [
    "sns.countplot(x='Dependents', hue='Churn', data = data)"
   ]
  },
  {
   "cell_type": "code",
   "execution_count": 43,
   "metadata": {},
   "outputs": [
    {
     "data": {
      "text/plain": [
       "<matplotlib.axes._subplots.AxesSubplot at 0x2b11ff1a610>"
      ]
     },
     "execution_count": 43,
     "metadata": {},
     "output_type": "execute_result"
    },
    {
     "data": {
      "image/png": "[encoded data removed]",
      "text/plain": [
       "<Figure size 432x288 with 1 Axes>"
      ]
     },
     "metadata": {
      "needs_background": "light"
     },
     "output_type": "display_data"
    }
   ],
   "source": [
    "sns.countplot(x='Partner', hue='Churn', data = data)"
   ]
  },
  {
   "cell_type": "code",
   "execution_count": 44,
   "metadata": {},
   "outputs": [
    {
     "data": {
      "text/plain": [
       "<matplotlib.axes._subplots.AxesSubplot at 0x2b11fe18550>"
      ]
     },
     "execution_count": 44,
     "metadata": {},
     "output_type": "execute_result"
    },
    {
     "data": {
      "image/png": "[encoded data removed]",
      "text/plain": [
       "<Figure size 432x288 with 1 Axes>"
      ]
     },
     "metadata": {
      "needs_background": "light"
     },
     "output_type": "display_data"
    }
   ],
   "source": [
    "#Customers have fiber optic internet are 2 times more likely to churn\n",
    "sns.countplot(x='InternetService', hue='Churn', data = data)"
   ]
  },
  {
   "cell_type": "code",
   "execution_count": 45,
   "metadata": {},
   "outputs": [
    {
     "data": {
      "text/plain": [
       "<matplotlib.axes._subplots.AxesSubplot at 0x2b11e9874f0>"
      ]
     },
     "execution_count": 45,
     "metadata": {},
     "output_type": "execute_result"
    },
    {
     "data": {
      "image/png": "[encoded data removed]",
      "text/plain": [
       "<Figure size 432x288 with 1 Axes>"
      ]
     },
     "metadata": {
      "needs_background": "light"
     },
     "output_type": "display_data"
    }
   ],
   "source": [
    "sns.countplot(x='Add-ons', hue='Churn', data = data)"
   ]
  },
  {
   "cell_type": "code",
   "execution_count": 46,
   "metadata": {},
   "outputs": [
    {
     "data": {
      "text/plain": [
       "Text(0.5, 1.0, 'Churn rate by plan')"
      ]
     },
     "execution_count": 46,
     "metadata": {},
     "output_type": "execute_result"
    },
    {
     "data": {
      "image/png": "[encoded data removed]",
      "text/plain": [
       "<Figure size 432x288 with 1 Axes>"
      ]
     },
     "metadata": {
      "needs_background": "light"
     },
     "output_type": "display_data"
    }
   ],
   "source": [
    "sns.countplot(x='Plan', hue='Churn', data = data)\n",
    "locs, labels = plt.xticks()\n",
    "plt.setp(labels, rotation=20)\n",
    "plt.title('Churn rate by plan')"
   ]
  },
  {
   "cell_type": "code",
   "execution_count": 48,
   "metadata": {},
   "outputs": [],
   "source": [
    "for i in range(0,len(data)):\n",
    "    if data['TotalCharges'][i] == ' ':\n",
    "        data.loc[i,'TotalCharges'] = 0\n",
    "data['TotalCharges'] = data['TotalCharges'].astype(float)"
   ]
  },
  {
   "cell_type": "code",
   "execution_count": 49,
   "metadata": {},
   "outputs": [],
   "source": [
    "data['AvgPastCharge'] = round(data['TotalCharges']/data['tenure'],2)\n",
    "data['RelativeChargeChange'] = round(((data['MonthlyCharges']/data['AvgPastCharge'])-1)*100,2)"
   ]
  },
  {
   "cell_type": "code",
   "execution_count": 50,
   "metadata": {},
   "outputs": [
    {
     "data": {
      "text/plain": [
       "Index(['id', 'customerID', 'gender', 'SeniorCitizen', 'Partner', 'Dependents',\n",
       "       'tenure', 'PhoneService', 'MultipleLines', 'InternetService',\n",
       "       'OnlineSecurity', 'OnlineBackup', 'DeviceProtection', 'TechSupport',\n",
       "       'StreamingTV', 'StreamingMovies', 'Contract', 'PaperlessBilling',\n",
       "       'PaymentMethod', 'MonthlyCharges', 'TotalCharges', 'Churn', 'Add-ons',\n",
       "       'Plan', 'LiveAlone', 'AvgPastCharge', 'RelativeChargeChange'],\n",
       "      dtype='object')"
      ]
     },
     "execution_count": 50,
     "metadata": {},
     "output_type": "execute_result"
    }
   ],
   "source": [
    "data.columns"
   ]
  },
  {
   "cell_type": "code",
   "execution_count": 51,
   "metadata": {},
   "outputs": [
    {
     "data": {
      "image/png": "[encoded data removed]",
      "text/plain": [
       "<Figure size 432x288 with 1 Axes>"
      ]
     },
     "metadata": {
      "needs_background": "light"
     },
     "output_type": "display_data"
    }
   ],
   "source": [
    "sns.violinplot(data=data, x=\"Churn\", y=\"RelativeChargeChange\",\n",
    "               split=True, inner=\"quart\", linewidth=1,\n",
    "               palette={\"Yes\": \"b\", \"No\": \".85\"})\n",
    "sns.despine(left=True)"
   ]
  },
  {
   "cell_type": "code",
   "execution_count": 55,
   "metadata": {},
   "outputs": [],
   "source": [
    "data['CustomerTerm'] = 'Less than 18 m'\n",
    "for i in range(0,len(data)):\n",
    "    if data.loc[i,'tenure'] > 18 and data.loc[i,'tenure'] <= 48:\n",
    "        data.loc[i,'CustomerTerm'] = '18 to 48 m'\n",
    "    elif data.loc[i,'tenure'] > 48:\n",
    "        data.loc[i,'CustomerTerm'] = 'More than 48 m'"
   ]
  },
  {
   "cell_type": "code",
   "execution_count": 56,
   "metadata": {},
   "outputs": [
    {
     "data": {
      "image/png": "[encoded data removed]",
      "text/plain": [
       "<Figure size 2160x864 with 1 Axes>"
      ]
     },
     "metadata": {
      "needs_background": "light"
     },
     "output_type": "display_data"
    }
   ],
   "source": [
    "fig, ax = plt.subplots(figsize=(30,12))\n",
    "sns.violinplot(ax = ax, data=data, x=\"CustomerTerm\", y=\"RelativeChargeChange\",hue = \"Churn\",\n",
    "               split=True, inner=\"quart\", linewidth=1,\n",
    "               palette={\"Yes\": \"r\", \"No\": \"g\"})\n",
    "sns.despine(left=True)"
   ]
  },
  {
   "cell_type": "code",
   "execution_count": 57,
   "metadata": {},
   "outputs": [
    {
     "data": {
      "image/png": "[encoded data removed]",
      "text/plain": [
       "<Figure size 432x288 with 1 Axes>"
      ]
     },
     "metadata": {
      "needs_background": "light"
     },
     "output_type": "display_data"
    }
   ],
   "source": [
    "#Add % to ylabel\n",
    "#Add the range to chart \n",
    "sns.boxplot(x=\"CustomerTerm\", y=\"RelativeChargeChange\",\n",
    "            hue=\"Churn\", palette=[\"y\", \"r\"],\n",
    "            data=data)\n",
    "sns.despine(offset=10, trim=True)"
   ]
  },
  {
   "cell_type": "code",
   "execution_count": 82,
   "metadata": {},
   "outputs": [],
   "source": [
    "data['CustomerTerm'].unique()\n",
    "long = data[data['CustomerTerm'] == 'More than 48 m']\n",
    "new = data[data['CustomerTerm'] == 'Less than 18 m']\n",
    "inter = data[data['CustomerTerm'] == '18 to 48 m']"
   ]
  },
  {
   "cell_type": "code",
   "execution_count": 87,
   "metadata": {},
   "outputs": [
    {
     "data": {
      "text/html": [
       "<div>\n",
       "<style scoped>\n",
       "    .dataframe tbody tr th:only-of-type {\n",
       "        vertical-align: middle;\n",
       "    }\n",
       "\n",
       "    .dataframe tbody tr th {\n",
       "        vertical-align: top;\n",
       "    }\n",
       "\n",
       "    .dataframe thead th {\n",
       "        text-align: right;\n",
       "    }\n",
       "</style>\n",
       "<table border=\"1\" class=\"dataframe\">\n",
       "  <thead>\n",
       "    <tr style=\"text-align: right;\">\n",
       "      <th></th>\n",
       "      <th>id</th>\n",
       "      <th>tenure</th>\n",
       "      <th>MonthlyCharges</th>\n",
       "      <th>TotalCharges</th>\n",
       "      <th>AvgPastCharge</th>\n",
       "      <th>RelativeChargeChange</th>\n",
       "      <th>ContractLength</th>\n",
       "    </tr>\n",
       "  </thead>\n",
       "  <tbody>\n",
       "    <tr>\n",
       "      <th>count</th>\n",
       "      <td>1905.000000</td>\n",
       "      <td>1905.000000</td>\n",
       "      <td>1905.000000</td>\n",
       "      <td>1905.000000</td>\n",
       "      <td>1905.000000</td>\n",
       "      <td>1905.000000</td>\n",
       "      <td>1905.000000</td>\n",
       "    </tr>\n",
       "    <tr>\n",
       "      <th>mean</th>\n",
       "      <td>3566.368504</td>\n",
       "      <td>63.042520</td>\n",
       "      <td>74.377743</td>\n",
       "      <td>4712.342625</td>\n",
       "      <td>74.423780</td>\n",
       "      <td>-0.004892</td>\n",
       "      <td>16.970079</td>\n",
       "    </tr>\n",
       "    <tr>\n",
       "      <th>std</th>\n",
       "      <td>2023.548877</td>\n",
       "      <td>7.458131</td>\n",
       "      <td>31.379762</td>\n",
       "      <td>2126.164791</td>\n",
       "      <td>31.443288</td>\n",
       "      <td>2.400886</td>\n",
       "      <td>8.869718</td>\n",
       "    </tr>\n",
       "    <tr>\n",
       "      <th>min</th>\n",
       "      <td>9.000000</td>\n",
       "      <td>49.000000</td>\n",
       "      <td>18.400000</td>\n",
       "      <td>918.700000</td>\n",
       "      <td>17.550000</td>\n",
       "      <td>-11.510000</td>\n",
       "      <td>0.000000</td>\n",
       "    </tr>\n",
       "    <tr>\n",
       "      <th>25%</th>\n",
       "      <td>1805.000000</td>\n",
       "      <td>57.000000</td>\n",
       "      <td>52.700000</td>\n",
       "      <td>3085.350000</td>\n",
       "      <td>52.730000</td>\n",
       "      <td>-1.430000</td>\n",
       "      <td>12.000000</td>\n",
       "    </tr>\n",
       "    <tr>\n",
       "      <th>50%</th>\n",
       "      <td>3590.000000</td>\n",
       "      <td>64.000000</td>\n",
       "      <td>83.550000</td>\n",
       "      <td>5023.000000</td>\n",
       "      <td>83.040000</td>\n",
       "      <td>-0.060000</td>\n",
       "      <td>24.000000</td>\n",
       "    </tr>\n",
       "    <tr>\n",
       "      <th>75%</th>\n",
       "      <td>5296.000000</td>\n",
       "      <td>70.000000</td>\n",
       "      <td>100.600000</td>\n",
       "      <td>6365.350000</td>\n",
       "      <td>101.040000</td>\n",
       "      <td>1.320000</td>\n",
       "      <td>24.000000</td>\n",
       "    </tr>\n",
       "    <tr>\n",
       "      <th>max</th>\n",
       "      <td>7042.000000</td>\n",
       "      <td>72.000000</td>\n",
       "      <td>118.750000</td>\n",
       "      <td>8684.800000</td>\n",
       "      <td>120.750000</td>\n",
       "      <td>13.060000</td>\n",
       "      <td>24.000000</td>\n",
       "    </tr>\n",
       "  </tbody>\n",
       "</table>\n",
       "</div>"
      ],
      "text/plain": [
       "                id       tenure  MonthlyCharges  TotalCharges  AvgPastCharge  \\\n",
       "count  1905.000000  1905.000000     1905.000000   1905.000000    1905.000000   \n",
       "mean   3566.368504    63.042520       74.377743   4712.342625      74.423780   \n",
       "std    2023.548877     7.458131       31.379762   2126.164791      31.443288   \n",
       "min       9.000000    49.000000       18.400000    918.700000      17.550000   \n",
       "25%    1805.000000    57.000000       52.700000   3085.350000      52.730000   \n",
       "50%    3590.000000    64.000000       83.550000   5023.000000      83.040000   \n",
       "75%    5296.000000    70.000000      100.600000   6365.350000     101.040000   \n",
       "max    7042.000000    72.000000      118.750000   8684.800000     120.750000   \n",
       "\n",
       "       RelativeChargeChange  ContractLength  \n",
       "count           1905.000000     1905.000000  \n",
       "mean              -0.004892       16.970079  \n",
       "std                2.400886        8.869718  \n",
       "min              -11.510000        0.000000  \n",
       "25%               -1.430000       12.000000  \n",
       "50%               -0.060000       24.000000  \n",
       "75%                1.320000       24.000000  \n",
       "max               13.060000       24.000000  "
      ]
     },
     "execution_count": 87,
     "metadata": {},
     "output_type": "execute_result"
    }
   ],
   "source": [
    "long.describe()"
   ]
  },
  {
   "cell_type": "code",
   "execution_count": null,
   "metadata": {},
   "outputs": [],
   "source": []
  },
  {
   "cell_type": "code",
   "execution_count": 89,
   "metadata": {},
   "outputs": [
    {
     "data": {
      "text/html": [
       "<div>\n",
       "<style scoped>\n",
       "    .dataframe tbody tr th:only-of-type {\n",
       "        vertical-align: middle;\n",
       "    }\n",
       "\n",
       "    .dataframe tbody tr th {\n",
       "        vertical-align: top;\n",
       "    }\n",
       "\n",
       "    .dataframe thead th {\n",
       "        text-align: right;\n",
       "    }\n",
       "</style>\n",
       "<table border=\"1\" class=\"dataframe\">\n",
       "  <thead>\n",
       "    <tr style=\"text-align: right;\">\n",
       "      <th></th>\n",
       "      <th>id</th>\n",
       "      <th>tenure</th>\n",
       "      <th>MonthlyCharges</th>\n",
       "      <th>TotalCharges</th>\n",
       "      <th>AvgPastCharge</th>\n",
       "      <th>RelativeChargeChange</th>\n",
       "      <th>ContractLength</th>\n",
       "    </tr>\n",
       "  </thead>\n",
       "  <tbody>\n",
       "    <tr>\n",
       "      <th>count</th>\n",
       "      <td>2306.000000</td>\n",
       "      <td>2306.000000</td>\n",
       "      <td>2306.000000</td>\n",
       "      <td>2306.000000</td>\n",
       "      <td>2296.000000</td>\n",
       "      <td>2296.000000</td>\n",
       "      <td>2306.000000</td>\n",
       "    </tr>\n",
       "    <tr>\n",
       "      <th>mean</th>\n",
       "      <td>3505.019948</td>\n",
       "      <td>6.900694</td>\n",
       "      <td>56.832177</td>\n",
       "      <td>407.438812</td>\n",
       "      <td>56.909408</td>\n",
       "      <td>0.482992</td>\n",
       "      <td>1.925412</td>\n",
       "    </tr>\n",
       "    <tr>\n",
       "      <th>std</th>\n",
       "      <td>2034.487743</td>\n",
       "      <td>5.432219</td>\n",
       "      <td>26.886008</td>\n",
       "      <td>411.020051</td>\n",
       "      <td>27.080095</td>\n",
       "      <td>7.226370</td>\n",
       "      <td>5.558881</td>\n",
       "    </tr>\n",
       "    <tr>\n",
       "      <th>min</th>\n",
       "      <td>0.000000</td>\n",
       "      <td>0.000000</td>\n",
       "      <td>18.750000</td>\n",
       "      <td>0.000000</td>\n",
       "      <td>13.780000</td>\n",
       "      <td>-34.690000</td>\n",
       "      <td>0.000000</td>\n",
       "    </tr>\n",
       "    <tr>\n",
       "      <th>25%</th>\n",
       "      <td>1744.250000</td>\n",
       "      <td>2.000000</td>\n",
       "      <td>25.400000</td>\n",
       "      <td>80.550000</td>\n",
       "      <td>26.475000</td>\n",
       "      <td>-2.810000</td>\n",
       "      <td>0.000000</td>\n",
       "    </tr>\n",
       "    <tr>\n",
       "      <th>50%</th>\n",
       "      <td>3512.500000</td>\n",
       "      <td>6.000000</td>\n",
       "      <td>58.450000</td>\n",
       "      <td>251.625000</td>\n",
       "      <td>59.140000</td>\n",
       "      <td>0.000000</td>\n",
       "      <td>0.000000</td>\n",
       "    </tr>\n",
       "    <tr>\n",
       "      <th>75%</th>\n",
       "      <td>5243.250000</td>\n",
       "      <td>11.000000</td>\n",
       "      <td>79.550000</td>\n",
       "      <td>613.287500</td>\n",
       "      <td>79.160000</td>\n",
       "      <td>3.342500</td>\n",
       "      <td>0.000000</td>\n",
       "    </tr>\n",
       "    <tr>\n",
       "      <th>max</th>\n",
       "      <td>7041.000000</td>\n",
       "      <td>18.000000</td>\n",
       "      <td>112.950000</td>\n",
       "      <td>1882.550000</td>\n",
       "      <td>121.400000</td>\n",
       "      <td>45.110000</td>\n",
       "      <td>24.000000</td>\n",
       "    </tr>\n",
       "  </tbody>\n",
       "</table>\n",
       "</div>"
      ],
      "text/plain": [
       "                id       tenure  MonthlyCharges  TotalCharges  AvgPastCharge  \\\n",
       "count  2306.000000  2306.000000     2306.000000   2306.000000    2296.000000   \n",
       "mean   3505.019948     6.900694       56.832177    407.438812      56.909408   \n",
       "std    2034.487743     5.432219       26.886008    411.020051      27.080095   \n",
       "min       0.000000     0.000000       18.750000      0.000000      13.780000   \n",
       "25%    1744.250000     2.000000       25.400000     80.550000      26.475000   \n",
       "50%    3512.500000     6.000000       58.450000    251.625000      59.140000   \n",
       "75%    5243.250000    11.000000       79.550000    613.287500      79.160000   \n",
       "max    7041.000000    18.000000      112.950000   1882.550000     121.400000   \n",
       "\n",
       "       RelativeChargeChange  ContractLength  \n",
       "count           2296.000000     2306.000000  \n",
       "mean               0.482992        1.925412  \n",
       "std                7.226370        5.558881  \n",
       "min              -34.690000        0.000000  \n",
       "25%               -2.810000        0.000000  \n",
       "50%                0.000000        0.000000  \n",
       "75%                3.342500        0.000000  \n",
       "max               45.110000       24.000000  "
      ]
     },
     "execution_count": 89,
     "metadata": {},
     "output_type": "execute_result"
    }
   ],
   "source": [
    "new.describe()"
   ]
  },
  {
   "cell_type": "code",
   "execution_count": 88,
   "metadata": {},
   "outputs": [
    {
     "data": {
      "text/html": [
       "<div>\n",
       "<style scoped>\n",
       "    .dataframe tbody tr th:only-of-type {\n",
       "        vertical-align: middle;\n",
       "    }\n",
       "\n",
       "    .dataframe tbody tr th {\n",
       "        vertical-align: top;\n",
       "    }\n",
       "\n",
       "    .dataframe thead th {\n",
       "        text-align: right;\n",
       "    }\n",
       "</style>\n",
       "<table border=\"1\" class=\"dataframe\">\n",
       "  <thead>\n",
       "    <tr style=\"text-align: right;\">\n",
       "      <th></th>\n",
       "      <th>id</th>\n",
       "      <th>tenure</th>\n",
       "      <th>MonthlyCharges</th>\n",
       "      <th>TotalCharges</th>\n",
       "      <th>AvgPastCharge</th>\n",
       "      <th>RelativeChargeChange</th>\n",
       "      <th>ContractLength</th>\n",
       "    </tr>\n",
       "  </thead>\n",
       "  <tbody>\n",
       "    <tr>\n",
       "      <th>count</th>\n",
       "      <td>1775.000000</td>\n",
       "      <td>1775.000000</td>\n",
       "      <td>1775.000000</td>\n",
       "      <td>1775.000000</td>\n",
       "      <td>1775.000000</td>\n",
       "      <td>1775.000000</td>\n",
       "      <td>1775.000000</td>\n",
       "    </tr>\n",
       "    <tr>\n",
       "      <th>mean</th>\n",
       "      <td>3535.430986</td>\n",
       "      <td>32.872676</td>\n",
       "      <td>64.879690</td>\n",
       "      <td>2150.221775</td>\n",
       "      <td>64.826158</td>\n",
       "      <td>0.239183</td>\n",
       "      <td>7.396056</td>\n",
       "    </tr>\n",
       "    <tr>\n",
       "      <th>std</th>\n",
       "      <td>2050.842780</td>\n",
       "      <td>8.719906</td>\n",
       "      <td>29.707053</td>\n",
       "      <td>1203.996747</td>\n",
       "      <td>29.762446</td>\n",
       "      <td>3.878177</td>\n",
       "      <td>8.835480</td>\n",
       "    </tr>\n",
       "    <tr>\n",
       "      <th>min</th>\n",
       "      <td>1.000000</td>\n",
       "      <td>19.000000</td>\n",
       "      <td>18.250000</td>\n",
       "      <td>279.200000</td>\n",
       "      <td>14.690000</td>\n",
       "      <td>-15.280000</td>\n",
       "      <td>0.000000</td>\n",
       "    </tr>\n",
       "    <tr>\n",
       "      <th>25%</th>\n",
       "      <td>1768.000000</td>\n",
       "      <td>25.000000</td>\n",
       "      <td>35.750000</td>\n",
       "      <td>1082.000000</td>\n",
       "      <td>35.780000</td>\n",
       "      <td>-2.075000</td>\n",
       "      <td>0.000000</td>\n",
       "    </tr>\n",
       "    <tr>\n",
       "      <th>50%</th>\n",
       "      <td>3557.000000</td>\n",
       "      <td>32.000000</td>\n",
       "      <td>70.750000</td>\n",
       "      <td>2043.450000</td>\n",
       "      <td>71.150000</td>\n",
       "      <td>0.160000</td>\n",
       "      <td>0.000000</td>\n",
       "    </tr>\n",
       "    <tr>\n",
       "      <th>75%</th>\n",
       "      <td>5321.000000</td>\n",
       "      <td>41.000000</td>\n",
       "      <td>90.075000</td>\n",
       "      <td>2979.250000</td>\n",
       "      <td>90.580000</td>\n",
       "      <td>2.490000</td>\n",
       "      <td>12.000000</td>\n",
       "    </tr>\n",
       "    <tr>\n",
       "      <th>max</th>\n",
       "      <td>7038.000000</td>\n",
       "      <td>48.000000</td>\n",
       "      <td>117.450000</td>\n",
       "      <td>5443.650000</td>\n",
       "      <td>116.540000</td>\n",
       "      <td>27.980000</td>\n",
       "      <td>24.000000</td>\n",
       "    </tr>\n",
       "  </tbody>\n",
       "</table>\n",
       "</div>"
      ],
      "text/plain": [
       "                id       tenure  MonthlyCharges  TotalCharges  AvgPastCharge  \\\n",
       "count  1775.000000  1775.000000     1775.000000   1775.000000    1775.000000   \n",
       "mean   3535.430986    32.872676       64.879690   2150.221775      64.826158   \n",
       "std    2050.842780     8.719906       29.707053   1203.996747      29.762446   \n",
       "min       1.000000    19.000000       18.250000    279.200000      14.690000   \n",
       "25%    1768.000000    25.000000       35.750000   1082.000000      35.780000   \n",
       "50%    3557.000000    32.000000       70.750000   2043.450000      71.150000   \n",
       "75%    5321.000000    41.000000       90.075000   2979.250000      90.580000   \n",
       "max    7038.000000    48.000000      117.450000   5443.650000     116.540000   \n",
       "\n",
       "       RelativeChargeChange  ContractLength  \n",
       "count           1775.000000     1775.000000  \n",
       "mean               0.239183        7.396056  \n",
       "std                3.878177        8.835480  \n",
       "min              -15.280000        0.000000  \n",
       "25%               -2.075000        0.000000  \n",
       "50%                0.160000        0.000000  \n",
       "75%                2.490000       12.000000  \n",
       "max               27.980000       24.000000  "
      ]
     },
     "execution_count": 88,
     "metadata": {},
     "output_type": "execute_result"
    }
   ],
   "source": [
    "inter.describe()"
   ]
  },
  {
   "cell_type": "code",
   "execution_count": 68,
   "metadata": {},
   "outputs": [
    {
     "data": {
      "text/plain": [
       "array(['Two year', 'Month-to-month', 'One year'], dtype=object)"
      ]
     },
     "execution_count": 68,
     "metadata": {},
     "output_type": "execute_result"
    }
   ],
   "source": [
    "data['Contract'].unique()"
   ]
  },
  {
   "cell_type": "code",
   "execution_count": 69,
   "metadata": {},
   "outputs": [
    {
     "data": {
      "text/html": [
       "<div>\n",
       "<style scoped>\n",
       "    .dataframe tbody tr th:only-of-type {\n",
       "        vertical-align: middle;\n",
       "    }\n",
       "\n",
       "    .dataframe tbody tr th {\n",
       "        vertical-align: top;\n",
       "    }\n",
       "\n",
       "    .dataframe thead th {\n",
       "        text-align: right;\n",
       "    }\n",
       "</style>\n",
       "<table border=\"1\" class=\"dataframe\">\n",
       "  <thead>\n",
       "    <tr style=\"text-align: right;\">\n",
       "      <th></th>\n",
       "      <th>id</th>\n",
       "      <th>customerID</th>\n",
       "      <th>gender</th>\n",
       "      <th>SeniorCitizen</th>\n",
       "      <th>Partner</th>\n",
       "      <th>Dependents</th>\n",
       "      <th>tenure</th>\n",
       "      <th>PhoneService</th>\n",
       "      <th>MultipleLines</th>\n",
       "      <th>InternetService</th>\n",
       "      <th>...</th>\n",
       "      <th>MonthlyCharges</th>\n",
       "      <th>TotalCharges</th>\n",
       "      <th>Churn</th>\n",
       "      <th>Add-ons</th>\n",
       "      <th>Plan</th>\n",
       "      <th>LiveAlone</th>\n",
       "      <th>AvgPastCharge</th>\n",
       "      <th>RelativeChargeChange</th>\n",
       "      <th>CustomerTerm</th>\n",
       "      <th>CustomerType</th>\n",
       "    </tr>\n",
       "  </thead>\n",
       "  <tbody>\n",
       "    <tr>\n",
       "      <th>0</th>\n",
       "      <td>1869</td>\n",
       "      <td>7010-BRBUU</td>\n",
       "      <td>Male</td>\n",
       "      <td>No</td>\n",
       "      <td>Yes</td>\n",
       "      <td>Yes</td>\n",
       "      <td>72</td>\n",
       "      <td>Yes</td>\n",
       "      <td>Yes</td>\n",
       "      <td>No</td>\n",
       "      <td>...</td>\n",
       "      <td>24.1</td>\n",
       "      <td>1734.65</td>\n",
       "      <td>No</td>\n",
       "      <td>No Internet</td>\n",
       "      <td>Phone Only</td>\n",
       "      <td>No</td>\n",
       "      <td>24.09</td>\n",
       "      <td>0.04</td>\n",
       "      <td>More than 48 m</td>\n",
       "      <td>More than 48 m</td>\n",
       "    </tr>\n",
       "    <tr>\n",
       "      <th>2882</th>\n",
       "      <td>3520</td>\n",
       "      <td>6036-TTFYU</td>\n",
       "      <td>Female</td>\n",
       "      <td>No</td>\n",
       "      <td>Yes</td>\n",
       "      <td>No</td>\n",
       "      <td>16</td>\n",
       "      <td>Yes</td>\n",
       "      <td>No</td>\n",
       "      <td>No</td>\n",
       "      <td>...</td>\n",
       "      <td>19.6</td>\n",
       "      <td>314.45</td>\n",
       "      <td>No</td>\n",
       "      <td>No Internet</td>\n",
       "      <td>Phone Only</td>\n",
       "      <td>No</td>\n",
       "      <td>19.65</td>\n",
       "      <td>-0.25</td>\n",
       "      <td>Less than 18 m</td>\n",
       "      <td>NaN</td>\n",
       "    </tr>\n",
       "    <tr>\n",
       "      <th>2870</th>\n",
       "      <td>1847</td>\n",
       "      <td>1098-KFQEC</td>\n",
       "      <td>Female</td>\n",
       "      <td>No</td>\n",
       "      <td>Yes</td>\n",
       "      <td>Yes</td>\n",
       "      <td>55</td>\n",
       "      <td>Yes</td>\n",
       "      <td>No</td>\n",
       "      <td>No</td>\n",
       "      <td>...</td>\n",
       "      <td>19.4</td>\n",
       "      <td>1083.00</td>\n",
       "      <td>No</td>\n",
       "      <td>No Internet</td>\n",
       "      <td>Phone Only</td>\n",
       "      <td>No</td>\n",
       "      <td>19.69</td>\n",
       "      <td>-1.47</td>\n",
       "      <td>More than 48 m</td>\n",
       "      <td>More than 48 m</td>\n",
       "    </tr>\n",
       "    <tr>\n",
       "      <th>2862</th>\n",
       "      <td>1213</td>\n",
       "      <td>6980-IMXXE</td>\n",
       "      <td>Female</td>\n",
       "      <td>No</td>\n",
       "      <td>Yes</td>\n",
       "      <td>Yes</td>\n",
       "      <td>69</td>\n",
       "      <td>Yes</td>\n",
       "      <td>No</td>\n",
       "      <td>No</td>\n",
       "      <td>...</td>\n",
       "      <td>20.2</td>\n",
       "      <td>1412.65</td>\n",
       "      <td>No</td>\n",
       "      <td>No Internet</td>\n",
       "      <td>Phone Only</td>\n",
       "      <td>No</td>\n",
       "      <td>20.47</td>\n",
       "      <td>-1.32</td>\n",
       "      <td>More than 48 m</td>\n",
       "      <td>More than 48 m</td>\n",
       "    </tr>\n",
       "    <tr>\n",
       "      <th>2857</th>\n",
       "      <td>5835</td>\n",
       "      <td>4641-FROLU</td>\n",
       "      <td>Female</td>\n",
       "      <td>No</td>\n",
       "      <td>Yes</td>\n",
       "      <td>Yes</td>\n",
       "      <td>30</td>\n",
       "      <td>Yes</td>\n",
       "      <td>No</td>\n",
       "      <td>No</td>\n",
       "      <td>...</td>\n",
       "      <td>19.3</td>\n",
       "      <td>602.90</td>\n",
       "      <td>No</td>\n",
       "      <td>No Internet</td>\n",
       "      <td>Phone Only</td>\n",
       "      <td>No</td>\n",
       "      <td>20.10</td>\n",
       "      <td>-3.98</td>\n",
       "      <td>18 to 48 m</td>\n",
       "      <td>18 to 48 m</td>\n",
       "    </tr>\n",
       "  </tbody>\n",
       "</table>\n",
       "<p>5 rows × 29 columns</p>\n",
       "</div>"
      ],
      "text/plain": [
       "        id  customerID  gender SeniorCitizen Partner Dependents  tenure  \\\n",
       "0     1869  7010-BRBUU    Male            No     Yes        Yes      72   \n",
       "2882  3520  6036-TTFYU  Female            No     Yes         No      16   \n",
       "2870  1847  1098-KFQEC  Female            No     Yes        Yes      55   \n",
       "2862  1213  6980-IMXXE  Female            No     Yes        Yes      69   \n",
       "2857  5835  4641-FROLU  Female            No     Yes        Yes      30   \n",
       "\n",
       "     PhoneService MultipleLines InternetService  ... MonthlyCharges  \\\n",
       "0             Yes           Yes              No  ...           24.1   \n",
       "2882          Yes            No              No  ...           19.6   \n",
       "2870          Yes            No              No  ...           19.4   \n",
       "2862          Yes            No              No  ...           20.2   \n",
       "2857          Yes            No              No  ...           19.3   \n",
       "\n",
       "     TotalCharges Churn      Add-ons        Plan LiveAlone AvgPastCharge  \\\n",
       "0         1734.65    No  No Internet  Phone Only        No         24.09   \n",
       "2882       314.45    No  No Internet  Phone Only        No         19.65   \n",
       "2870      1083.00    No  No Internet  Phone Only        No         19.69   \n",
       "2862      1412.65    No  No Internet  Phone Only        No         20.47   \n",
       "2857       602.90    No  No Internet  Phone Only        No         20.10   \n",
       "\n",
       "     RelativeChargeChange    CustomerTerm    CustomerType  \n",
       "0                    0.04  More than 48 m  More than 48 m  \n",
       "2882                -0.25  Less than 18 m             NaN  \n",
       "2870                -1.47  More than 48 m  More than 48 m  \n",
       "2862                -1.32  More than 48 m  More than 48 m  \n",
       "2857                -3.98      18 to 48 m      18 to 48 m  \n",
       "\n",
       "[5 rows x 29 columns]"
      ]
     },
     "execution_count": 69,
     "metadata": {},
     "output_type": "execute_result"
    }
   ],
   "source": [
    "data.head(5)"
   ]
  },
  {
   "cell_type": "code",
   "execution_count": 70,
   "metadata": {},
   "outputs": [],
   "source": [
    "data['ContractLength'] = 0\n",
    "for i in range(0,len(data)):\n",
    "    if data.loc[i,'Contract'] == \"Two year\":\n",
    "        data.loc[i,'ContractLength'] = 24\n",
    "    elif data.loc[i,'Contract'] == \"One year\":\n",
    "        data.loc[i,'ContractLength'] = 12"
   ]
  },
  {
   "cell_type": "code",
   "execution_count": 71,
   "metadata": {},
   "outputs": [],
   "source": [
    "data['BeyondContract'] = data['tenure'] > data['ContractLength']"
   ]
  },
  {
   "cell_type": "code",
   "execution_count": 72,
   "metadata": {},
   "outputs": [
    {
     "data": {
      "text/html": [
       "<div>\n",
       "<style scoped>\n",
       "    .dataframe tbody tr th:only-of-type {\n",
       "        vertical-align: middle;\n",
       "    }\n",
       "\n",
       "    .dataframe tbody tr th {\n",
       "        vertical-align: top;\n",
       "    }\n",
       "\n",
       "    .dataframe thead th {\n",
       "        text-align: right;\n",
       "    }\n",
       "</style>\n",
       "<table border=\"1\" class=\"dataframe\">\n",
       "  <thead>\n",
       "    <tr style=\"text-align: right;\">\n",
       "      <th></th>\n",
       "      <th>id</th>\n",
       "      <th>customerID</th>\n",
       "      <th>gender</th>\n",
       "      <th>SeniorCitizen</th>\n",
       "      <th>Partner</th>\n",
       "      <th>Dependents</th>\n",
       "      <th>tenure</th>\n",
       "      <th>PhoneService</th>\n",
       "      <th>MultipleLines</th>\n",
       "      <th>InternetService</th>\n",
       "      <th>...</th>\n",
       "      <th>Churn</th>\n",
       "      <th>Add-ons</th>\n",
       "      <th>Plan</th>\n",
       "      <th>LiveAlone</th>\n",
       "      <th>AvgPastCharge</th>\n",
       "      <th>RelativeChargeChange</th>\n",
       "      <th>CustomerTerm</th>\n",
       "      <th>CustomerType</th>\n",
       "      <th>ContractLength</th>\n",
       "      <th>BeyondContract</th>\n",
       "    </tr>\n",
       "  </thead>\n",
       "  <tbody>\n",
       "    <tr>\n",
       "      <th>0</th>\n",
       "      <td>1869</td>\n",
       "      <td>7010-BRBUU</td>\n",
       "      <td>Male</td>\n",
       "      <td>No</td>\n",
       "      <td>Yes</td>\n",
       "      <td>Yes</td>\n",
       "      <td>72</td>\n",
       "      <td>Yes</td>\n",
       "      <td>Yes</td>\n",
       "      <td>No</td>\n",
       "      <td>...</td>\n",
       "      <td>No</td>\n",
       "      <td>No Internet</td>\n",
       "      <td>Phone Only</td>\n",
       "      <td>No</td>\n",
       "      <td>24.09</td>\n",
       "      <td>0.04</td>\n",
       "      <td>More than 48 m</td>\n",
       "      <td>More than 48 m</td>\n",
       "      <td>24</td>\n",
       "      <td>True</td>\n",
       "    </tr>\n",
       "    <tr>\n",
       "      <th>2882</th>\n",
       "      <td>3520</td>\n",
       "      <td>6036-TTFYU</td>\n",
       "      <td>Female</td>\n",
       "      <td>No</td>\n",
       "      <td>Yes</td>\n",
       "      <td>No</td>\n",
       "      <td>16</td>\n",
       "      <td>Yes</td>\n",
       "      <td>No</td>\n",
       "      <td>No</td>\n",
       "      <td>...</td>\n",
       "      <td>No</td>\n",
       "      <td>No Internet</td>\n",
       "      <td>Phone Only</td>\n",
       "      <td>No</td>\n",
       "      <td>19.65</td>\n",
       "      <td>-0.25</td>\n",
       "      <td>Less than 18 m</td>\n",
       "      <td>NaN</td>\n",
       "      <td>0</td>\n",
       "      <td>True</td>\n",
       "    </tr>\n",
       "    <tr>\n",
       "      <th>2870</th>\n",
       "      <td>1847</td>\n",
       "      <td>1098-KFQEC</td>\n",
       "      <td>Female</td>\n",
       "      <td>No</td>\n",
       "      <td>Yes</td>\n",
       "      <td>Yes</td>\n",
       "      <td>55</td>\n",
       "      <td>Yes</td>\n",
       "      <td>No</td>\n",
       "      <td>No</td>\n",
       "      <td>...</td>\n",
       "      <td>No</td>\n",
       "      <td>No Internet</td>\n",
       "      <td>Phone Only</td>\n",
       "      <td>No</td>\n",
       "      <td>19.69</td>\n",
       "      <td>-1.47</td>\n",
       "      <td>More than 48 m</td>\n",
       "      <td>More than 48 m</td>\n",
       "      <td>24</td>\n",
       "      <td>True</td>\n",
       "    </tr>\n",
       "    <tr>\n",
       "      <th>2862</th>\n",
       "      <td>1213</td>\n",
       "      <td>6980-IMXXE</td>\n",
       "      <td>Female</td>\n",
       "      <td>No</td>\n",
       "      <td>Yes</td>\n",
       "      <td>Yes</td>\n",
       "      <td>69</td>\n",
       "      <td>Yes</td>\n",
       "      <td>No</td>\n",
       "      <td>No</td>\n",
       "      <td>...</td>\n",
       "      <td>No</td>\n",
       "      <td>No Internet</td>\n",
       "      <td>Phone Only</td>\n",
       "      <td>No</td>\n",
       "      <td>20.47</td>\n",
       "      <td>-1.32</td>\n",
       "      <td>More than 48 m</td>\n",
       "      <td>More than 48 m</td>\n",
       "      <td>24</td>\n",
       "      <td>True</td>\n",
       "    </tr>\n",
       "    <tr>\n",
       "      <th>2857</th>\n",
       "      <td>5835</td>\n",
       "      <td>4641-FROLU</td>\n",
       "      <td>Female</td>\n",
       "      <td>No</td>\n",
       "      <td>Yes</td>\n",
       "      <td>Yes</td>\n",
       "      <td>30</td>\n",
       "      <td>Yes</td>\n",
       "      <td>No</td>\n",
       "      <td>No</td>\n",
       "      <td>...</td>\n",
       "      <td>No</td>\n",
       "      <td>No Internet</td>\n",
       "      <td>Phone Only</td>\n",
       "      <td>No</td>\n",
       "      <td>20.10</td>\n",
       "      <td>-3.98</td>\n",
       "      <td>18 to 48 m</td>\n",
       "      <td>18 to 48 m</td>\n",
       "      <td>24</td>\n",
       "      <td>True</td>\n",
       "    </tr>\n",
       "  </tbody>\n",
       "</table>\n",
       "<p>5 rows × 31 columns</p>\n",
       "</div>"
      ],
      "text/plain": [
       "        id  customerID  gender SeniorCitizen Partner Dependents  tenure  \\\n",
       "0     1869  7010-BRBUU    Male            No     Yes        Yes      72   \n",
       "2882  3520  6036-TTFYU  Female            No     Yes         No      16   \n",
       "2870  1847  1098-KFQEC  Female            No     Yes        Yes      55   \n",
       "2862  1213  6980-IMXXE  Female            No     Yes        Yes      69   \n",
       "2857  5835  4641-FROLU  Female            No     Yes        Yes      30   \n",
       "\n",
       "     PhoneService MultipleLines InternetService  ... Churn      Add-ons  \\\n",
       "0             Yes           Yes              No  ...    No  No Internet   \n",
       "2882          Yes            No              No  ...    No  No Internet   \n",
       "2870          Yes            No              No  ...    No  No Internet   \n",
       "2862          Yes            No              No  ...    No  No Internet   \n",
       "2857          Yes            No              No  ...    No  No Internet   \n",
       "\n",
       "            Plan LiveAlone AvgPastCharge RelativeChargeChange    CustomerTerm  \\\n",
       "0     Phone Only        No         24.09                 0.04  More than 48 m   \n",
       "2882  Phone Only        No         19.65                -0.25  Less than 18 m   \n",
       "2870  Phone Only        No         19.69                -1.47  More than 48 m   \n",
       "2862  Phone Only        No         20.47                -1.32  More than 48 m   \n",
       "2857  Phone Only        No         20.10                -3.98      18 to 48 m   \n",
       "\n",
       "        CustomerType ContractLength  BeyondContract  \n",
       "0     More than 48 m             24            True  \n",
       "2882             NaN              0            True  \n",
       "2870  More than 48 m             24            True  \n",
       "2862  More than 48 m             24            True  \n",
       "2857      18 to 48 m             24            True  \n",
       "\n",
       "[5 rows x 31 columns]"
      ]
     },
     "execution_count": 72,
     "metadata": {},
     "output_type": "execute_result"
    }
   ],
   "source": [
    "data.head(5)"
   ]
  },
  {
   "cell_type": "code",
   "execution_count": 73,
   "metadata": {},
   "outputs": [],
   "source": [
    "beyond = data.loc[(data.ContractLength > 0)]"
   ]
  },
  {
   "cell_type": "code",
   "execution_count": 74,
   "metadata": {},
   "outputs": [
    {
     "data": {
      "text/plain": [
       "<matplotlib.axes._subplots.AxesSubplot at 0x221086c8190>"
      ]
     },
     "execution_count": 74,
     "metadata": {},
     "output_type": "execute_result"
    },
    {
     "data": {
      "image/png": "[encoded data removed]",
      "text/plain": [
       "<Figure size 432x288 with 1 Axes>"
      ]
     },
     "metadata": {
      "needs_background": "light"
     },
     "output_type": "display_data"
    }
   ],
   "source": [
    "#Among customers who churned, the majority of them stayed beyond their contract terms\n",
    "sns.countplot(x='BeyondContract', hue='Churn', data = beyond)"
   ]
  },
  {
   "cell_type": "code",
   "execution_count": null,
   "metadata": {},
   "outputs": [],
   "source": []
  }
 ],
 "metadata": {
  "kernelspec": {
   "display_name": "Python 3",
   "language": "python",
   "name": "python3"
  },
  "language_info": {
   "codemirror_mode": {
    "name": "ipython",
    "version": 3
   },
   "file_extension": ".py",
   "mimetype": "text/x-python",
   "name": "python",
   "nbconvert_exporter": "python",
   "pygments_lexer": "ipython3",
   "version": "3.8.3"
  }
 },
 "nbformat": 4,
 "nbformat_minor": 4
}
